{
 "cells": [
  {
   "cell_type": "code",
   "execution_count": 1,
   "metadata": {},
   "outputs": [],
   "source": [
    "%load_ext autoreload\n",
    "%autoreload 2"
   ]
  },
  {
   "cell_type": "code",
   "execution_count": 2,
   "metadata": {},
   "outputs": [],
   "source": [
    "import pandas as pd\n",
    "import numpy as np"
   ]
  },
  {
   "cell_type": "code",
   "execution_count": 3,
   "metadata": {},
   "outputs": [],
   "source": [
    "# Configuracion de visualización de tablas en VS Code -Jupyter\n",
    "pd.set_option('display.max_columns', None)\n",
    "pd.set_option('display.max_rows', 300)"
   ]
  },
  {
   "cell_type": "code",
   "execution_count": 4,
   "metadata": {},
   "outputs": [
    {
     "name": "stderr",
     "output_type": "stream",
     "text": [
      "C:\\Users\\Roy Quillca Pacco\\AppData\\Local\\Temp\\ipykernel_2768\\1211225962.py:2: DtypeWarning: Columns (10) have mixed types. Specify dtype option on import or set low_memory=False.\n",
      "  movie_data = pd.read_csv('../datasets/movies_dataset.csv', low_memory=True)\n"
     ]
    },
    {
     "data": {
      "text/html": [
       "<div>\n",
       "<style scoped>\n",
       "    .dataframe tbody tr th:only-of-type {\n",
       "        vertical-align: middle;\n",
       "    }\n",
       "\n",
       "    .dataframe tbody tr th {\n",
       "        vertical-align: top;\n",
       "    }\n",
       "\n",
       "    .dataframe thead th {\n",
       "        text-align: right;\n",
       "    }\n",
       "</style>\n",
       "<table border=\"1\" class=\"dataframe\">\n",
       "  <thead>\n",
       "    <tr style=\"text-align: right;\">\n",
       "      <th></th>\n",
       "      <th>adult</th>\n",
       "      <th>belongs_to_collection</th>\n",
       "      <th>budget</th>\n",
       "      <th>genres</th>\n",
       "      <th>homepage</th>\n",
       "      <th>id</th>\n",
       "      <th>imdb_id</th>\n",
       "      <th>original_language</th>\n",
       "      <th>original_title</th>\n",
       "      <th>overview</th>\n",
       "      <th>popularity</th>\n",
       "      <th>poster_path</th>\n",
       "      <th>production_companies</th>\n",
       "      <th>production_countries</th>\n",
       "      <th>release_date</th>\n",
       "      <th>revenue</th>\n",
       "      <th>runtime</th>\n",
       "      <th>spoken_languages</th>\n",
       "      <th>status</th>\n",
       "      <th>tagline</th>\n",
       "      <th>title</th>\n",
       "      <th>video</th>\n",
       "      <th>vote_average</th>\n",
       "      <th>vote_count</th>\n",
       "    </tr>\n",
       "  </thead>\n",
       "  <tbody>\n",
       "    <tr>\n",
       "      <th>0</th>\n",
       "      <td>False</td>\n",
       "      <td>{'id': 10194, 'name': 'Toy Story Collection', ...</td>\n",
       "      <td>30000000</td>\n",
       "      <td>[{'id': 16, 'name': 'Animation'}, {'id': 35, '...</td>\n",
       "      <td>http://toystory.disney.com/toy-story</td>\n",
       "      <td>862</td>\n",
       "      <td>tt0114709</td>\n",
       "      <td>en</td>\n",
       "      <td>Toy Story</td>\n",
       "      <td>Led by Woody, Andy's toys live happily in his ...</td>\n",
       "      <td>21.946943</td>\n",
       "      <td>/rhIRbceoE9lR4veEXuwCC2wARtG.jpg</td>\n",
       "      <td>[{'name': 'Pixar Animation Studios', 'id': 3}]</td>\n",
       "      <td>[{'iso_3166_1': 'US', 'name': 'United States o...</td>\n",
       "      <td>1995-10-30</td>\n",
       "      <td>373554033.0</td>\n",
       "      <td>81.0</td>\n",
       "      <td>[{'iso_639_1': 'en', 'name': 'English'}]</td>\n",
       "      <td>Released</td>\n",
       "      <td>NaN</td>\n",
       "      <td>Toy Story</td>\n",
       "      <td>False</td>\n",
       "      <td>7.7</td>\n",
       "      <td>5415.0</td>\n",
       "    </tr>\n",
       "    <tr>\n",
       "      <th>1</th>\n",
       "      <td>False</td>\n",
       "      <td>NaN</td>\n",
       "      <td>65000000</td>\n",
       "      <td>[{'id': 12, 'name': 'Adventure'}, {'id': 14, '...</td>\n",
       "      <td>NaN</td>\n",
       "      <td>8844</td>\n",
       "      <td>tt0113497</td>\n",
       "      <td>en</td>\n",
       "      <td>Jumanji</td>\n",
       "      <td>When siblings Judy and Peter discover an encha...</td>\n",
       "      <td>17.015539</td>\n",
       "      <td>/vzmL6fP7aPKNKPRTFnZmiUfciyV.jpg</td>\n",
       "      <td>[{'name': 'TriStar Pictures', 'id': 559}, {'na...</td>\n",
       "      <td>[{'iso_3166_1': 'US', 'name': 'United States o...</td>\n",
       "      <td>1995-12-15</td>\n",
       "      <td>262797249.0</td>\n",
       "      <td>104.0</td>\n",
       "      <td>[{'iso_639_1': 'en', 'name': 'English'}, {'iso...</td>\n",
       "      <td>Released</td>\n",
       "      <td>Roll the dice and unleash the excitement!</td>\n",
       "      <td>Jumanji</td>\n",
       "      <td>False</td>\n",
       "      <td>6.9</td>\n",
       "      <td>2413.0</td>\n",
       "    </tr>\n",
       "  </tbody>\n",
       "</table>\n",
       "</div>"
      ],
      "text/plain": [
       "   adult                              belongs_to_collection    budget   \n",
       "0  False  {'id': 10194, 'name': 'Toy Story Collection', ...  30000000  \\\n",
       "1  False                                                NaN  65000000   \n",
       "\n",
       "                                              genres   \n",
       "0  [{'id': 16, 'name': 'Animation'}, {'id': 35, '...  \\\n",
       "1  [{'id': 12, 'name': 'Adventure'}, {'id': 14, '...   \n",
       "\n",
       "                               homepage    id    imdb_id original_language   \n",
       "0  http://toystory.disney.com/toy-story   862  tt0114709                en  \\\n",
       "1                                   NaN  8844  tt0113497                en   \n",
       "\n",
       "  original_title                                           overview   \n",
       "0      Toy Story  Led by Woody, Andy's toys live happily in his ...  \\\n",
       "1        Jumanji  When siblings Judy and Peter discover an encha...   \n",
       "\n",
       "  popularity                       poster_path   \n",
       "0  21.946943  /rhIRbceoE9lR4veEXuwCC2wARtG.jpg  \\\n",
       "1  17.015539  /vzmL6fP7aPKNKPRTFnZmiUfciyV.jpg   \n",
       "\n",
       "                                production_companies   \n",
       "0     [{'name': 'Pixar Animation Studios', 'id': 3}]  \\\n",
       "1  [{'name': 'TriStar Pictures', 'id': 559}, {'na...   \n",
       "\n",
       "                                production_countries release_date   \n",
       "0  [{'iso_3166_1': 'US', 'name': 'United States o...   1995-10-30  \\\n",
       "1  [{'iso_3166_1': 'US', 'name': 'United States o...   1995-12-15   \n",
       "\n",
       "       revenue  runtime                                   spoken_languages   \n",
       "0  373554033.0     81.0           [{'iso_639_1': 'en', 'name': 'English'}]  \\\n",
       "1  262797249.0    104.0  [{'iso_639_1': 'en', 'name': 'English'}, {'iso...   \n",
       "\n",
       "     status                                    tagline      title  video   \n",
       "0  Released                                        NaN  Toy Story  False  \\\n",
       "1  Released  Roll the dice and unleash the excitement!    Jumanji  False   \n",
       "\n",
       "   vote_average  vote_count  \n",
       "0           7.7      5415.0  \n",
       "1           6.9      2413.0  "
      ]
     },
     "execution_count": 4,
     "metadata": {},
     "output_type": "execute_result"
    }
   ],
   "source": [
    "# Lectura de los datos\n",
    "movie_data = pd.read_csv('../datasets/movies_dataset.csv', low_memory=True)\n",
    "movie_data.head(2)"
   ]
  },
  {
   "attachments": {},
   "cell_type": "markdown",
   "metadata": {},
   "source": [
    "## 1. Diccionario de datos"
   ]
  },
  {
   "attachments": {},
   "cell_type": "markdown",
   "metadata": {},
   "source": [
    "1. **``adult``**: *Indica si la película tiene califiación X, exclusiva para adultos..*\n",
    "2. **``belongs_to_collection``**: *Un diccionario que indica a que franquicia o serie de películas pertenece la película.*\n",
    "3. **``budget``**: *El presupuesto de la película, en dólares.*\n",
    "4. **``genres``**: *Un diccionario que indica todos los géneros asociados a la película.*\n",
    "5. **``homepage``**: *La página web oficial de la película.*\n",
    "6. **``id``**: *ID de la pelicula.*\n",
    "7. **``imdb_id``**: *IMDB ID de la pelicula.*\n",
    "8. **``original_language``**: *Idioma original en la que se grabo la pelicula.*\n",
    "9. **``original_title``**: *Titulo original de la pelicula.*\n",
    "10. **``overview``**: *Pequeño resumen de la película.*\n",
    "11. **``popularity``**: *Puntaje de popularidad de la película, asignado por TMDB (TheMoviesDataBase).*\n",
    "12. **``poster_path``**: *URL del póster de la película.*\n",
    "13. **``production_companies``**: *Lista con las compañias productoras asociadas a la película.*\n",
    "14. **``production_countries``**: *Lista con los países donde se produjo la película.*\n",
    "15. **``release_date``**: *Fecha de estreno de la película.*\n",
    "16. **``revenue``**: *Recaudación de la pelicula, en dolares.*\n",
    "17. **``runtime``**: *Duración de la película, en minutos.*\n",
    "18. **``spoken_languages``**: *Lista con los idiomas que se hablan en la pelicula.*\n",
    "19. **``status``**: *Estado de la pelicula actual (si fue anunciada, si ya se estreno, etc).*\n",
    "20. **``tagline``**: *Frase celebre asociadaa la pelicula.*\n",
    "21. **``title``**: *Titulo de la pelicula.*\n",
    "22. **``video``**: *Indica si hay o no un trailer en video disponible en TMDB.*\n",
    "23. **``vote_average``**: *Puntaje promedio de reseñas de la pelicula.*\n",
    "24. **``vote_count``**: *Numeros de votos recibidos por la pelicula, en TMDB.*\n"
   ]
  },
  {
   "attachments": {},
   "cell_type": "markdown",
   "metadata": {},
   "source": [
    "## **Transformaciones**"
   ]
  },
  {
   "attachments": {},
   "cell_type": "markdown",
   "metadata": {},
   "source": [
    "Para este MVP no necesitas perfección, ¡necesitas rapidez! ⏩ Vas a hacer estas, ***y solo estas***, transformaciones a los datos:"
   ]
  },
  {
   "attachments": {},
   "cell_type": "markdown",
   "metadata": {},
   "source": [
    "##### 1. Algunos campos, como **`belongs_to_collection`**, **`production_companies`** y otros (ver diccionario de datos) están anidados, esto es o bien tienen un diccionario o una lista como valores en cada fila, ¡deberán desanidarlos para poder  y unirlos al dataset de nuevo hacer alguna de las consultas de la API! O bien buscar la manera de acceder a esos datos sin desanidarlos."
   ]
  },
  {
   "attachments": {},
   "cell_type": "markdown",
   "metadata": {},
   "source": [
    "*Crearemos una nueva columna ``collection_id``, ``collection_name``, ``collection_poster_path``, ``collection_backdrop_path``.*"
   ]
  },
  {
   "cell_type": "code",
   "execution_count": 5,
   "metadata": {},
   "outputs": [],
   "source": [
    "import re"
   ]
  },
  {
   "cell_type": "code",
   "execution_count": 6,
   "metadata": {},
   "outputs": [],
   "source": [
    "def extract_values(text):\n",
    "    if type(text) == str:\n",
    "        pattern = r\"'(\\w+)': '([^']+)'\"\n",
    "        matches = re.findall(pattern, text)\n",
    "        return {key: value for key, value in matches}\n",
    "    else:\n",
    "        return None"
   ]
  },
  {
   "cell_type": "code",
   "execution_count": 7,
   "metadata": {},
   "outputs": [],
   "source": [
    "# Función para extraer el valor del campo 'id'\n",
    "def extract_id(text):\n",
    "    if type(text) == str:\n",
    "        pattern = r\"'id': (\\d+)\"\n",
    "        match = re.search(pattern, text)\n",
    "        if match:\n",
    "            return match.group(1)\n",
    "        else:\n",
    "            return None\n",
    "    else:\n",
    "        return None"
   ]
  },
  {
   "cell_type": "code",
   "execution_count": 8,
   "metadata": {},
   "outputs": [],
   "source": [
    "# Aplicar la función a la columna y crear una nueva columna 'id'\n",
    "movie_data['collection_id'] = movie_data['belongs_to_collection'].apply(extract_id)\n",
    "# Aplicar la función a la columna y crear nuevas columnas en el DataFrame\n",
    "movie_data[['collection_name', 'collection_poster_path', 'collection_backdrop_path']] = movie_data['belongs_to_collection'].apply(extract_values).apply(pd.Series)"
   ]
  },
  {
   "cell_type": "code",
   "execution_count": 9,
   "metadata": {},
   "outputs": [],
   "source": [
    "# Eliminación de la columna belongs_to_collection\n",
    "movie_data = movie_data.drop(axis=\"columns\", columns=\"belongs_to_collection\")"
   ]
  },
  {
   "cell_type": "code",
   "execution_count": 10,
   "metadata": {},
   "outputs": [],
   "source": [
    "# Aplicar la función a la columna y crear una nueva columna 'production_company_id'\n",
    "movie_data[\"production_company_id\"] = movie_data[\"production_companies\"].apply(extract_id)\n",
    "# Aplicar la función a la columna y crear nuevas columnas en el DataFrame\n",
    "movie_data[\"production_company_name\"] = movie_data[\"production_companies\"].apply(extract_values).apply(pd.Series)"
   ]
  },
  {
   "cell_type": "code",
   "execution_count": 11,
   "metadata": {},
   "outputs": [],
   "source": [
    "# Eliminación de la columna belongs_to_collection\n",
    "movie_data = movie_data.drop(axis=\"columns\", columns=\"production_companies\")"
   ]
  },
  {
   "cell_type": "code",
   "execution_count": 12,
   "metadata": {},
   "outputs": [
    {
     "data": {
      "text/plain": [
       "Index(['adult', 'budget', 'genres', 'homepage', 'id', 'imdb_id',\n",
       "       'original_language', 'original_title', 'overview', 'popularity',\n",
       "       'poster_path', 'production_countries', 'release_date', 'revenue',\n",
       "       'runtime', 'spoken_languages', 'status', 'tagline', 'title', 'video',\n",
       "       'vote_average', 'vote_count', 'collection_id', 'collection_name',\n",
       "       'collection_poster_path', 'collection_backdrop_path',\n",
       "       'production_company_id', 'production_company_name'],\n",
       "      dtype='object')"
      ]
     },
     "execution_count": 12,
     "metadata": {},
     "output_type": "execute_result"
    }
   ],
   "source": [
    "movie_data.columns"
   ]
  },
  {
   "attachments": {},
   "cell_type": "markdown",
   "metadata": {},
   "source": [
    "##### 2. Los valores nulos de los campos **`revenue`**, **`budget`** deben ser rellenados por el número **`0`**."
   ]
  },
  {
   "cell_type": "code",
   "execution_count": 13,
   "metadata": {},
   "outputs": [
    {
     "data": {
      "text/html": [
       "<div>\n",
       "<style scoped>\n",
       "    .dataframe tbody tr th:only-of-type {\n",
       "        vertical-align: middle;\n",
       "    }\n",
       "\n",
       "    .dataframe tbody tr th {\n",
       "        vertical-align: top;\n",
       "    }\n",
       "\n",
       "    .dataframe thead th {\n",
       "        text-align: right;\n",
       "    }\n",
       "</style>\n",
       "<table border=\"1\" class=\"dataframe\">\n",
       "  <thead>\n",
       "    <tr style=\"text-align: right;\">\n",
       "      <th></th>\n",
       "      <th>poster_path</th>\n",
       "      <th>production_countries</th>\n",
       "      <th>release_date</th>\n",
       "      <th>revenue</th>\n",
       "      <th>runtime</th>\n",
       "      <th>spoken_languages</th>\n",
       "      <th>status</th>\n",
       "      <th>tagline</th>\n",
       "      <th>title</th>\n",
       "      <th>video</th>\n",
       "    </tr>\n",
       "  </thead>\n",
       "  <tbody>\n",
       "    <tr>\n",
       "      <th>19729</th>\n",
       "      <td>NaN</td>\n",
       "      <td>NaN</td>\n",
       "      <td>NaN</td>\n",
       "      <td>NaN</td>\n",
       "      <td>NaN</td>\n",
       "      <td>NaN</td>\n",
       "      <td>NaN</td>\n",
       "      <td>NaN</td>\n",
       "      <td>NaN</td>\n",
       "      <td>NaN</td>\n",
       "    </tr>\n",
       "    <tr>\n",
       "      <th>19730</th>\n",
       "      <td>Midnight Man</td>\n",
       "      <td>6.0</td>\n",
       "      <td>1</td>\n",
       "      <td>NaN</td>\n",
       "      <td>NaN</td>\n",
       "      <td>NaN</td>\n",
       "      <td>NaN</td>\n",
       "      <td>NaN</td>\n",
       "      <td>NaN</td>\n",
       "      <td>NaN</td>\n",
       "    </tr>\n",
       "    <tr>\n",
       "      <th>29502</th>\n",
       "      <td>NaN</td>\n",
       "      <td>NaN</td>\n",
       "      <td>NaN</td>\n",
       "      <td>NaN</td>\n",
       "      <td>NaN</td>\n",
       "      <td>NaN</td>\n",
       "      <td>NaN</td>\n",
       "      <td>NaN</td>\n",
       "      <td>NaN</td>\n",
       "      <td>NaN</td>\n",
       "    </tr>\n",
       "    <tr>\n",
       "      <th>29503</th>\n",
       "      <td>Mardock Scramble: The Third Exhaust</td>\n",
       "      <td>7.0</td>\n",
       "      <td>12</td>\n",
       "      <td>NaN</td>\n",
       "      <td>NaN</td>\n",
       "      <td>NaN</td>\n",
       "      <td>NaN</td>\n",
       "      <td>NaN</td>\n",
       "      <td>NaN</td>\n",
       "      <td>NaN</td>\n",
       "    </tr>\n",
       "    <tr>\n",
       "      <th>35586</th>\n",
       "      <td>NaN</td>\n",
       "      <td>NaN</td>\n",
       "      <td>NaN</td>\n",
       "      <td>NaN</td>\n",
       "      <td>NaN</td>\n",
       "      <td>NaN</td>\n",
       "      <td>NaN</td>\n",
       "      <td>NaN</td>\n",
       "      <td>NaN</td>\n",
       "      <td>NaN</td>\n",
       "    </tr>\n",
       "    <tr>\n",
       "      <th>35587</th>\n",
       "      <td>Avalanche Sharks</td>\n",
       "      <td>4.3</td>\n",
       "      <td>22</td>\n",
       "      <td>NaN</td>\n",
       "      <td>NaN</td>\n",
       "      <td>NaN</td>\n",
       "      <td>NaN</td>\n",
       "      <td>NaN</td>\n",
       "      <td>NaN</td>\n",
       "      <td>NaN</td>\n",
       "    </tr>\n",
       "  </tbody>\n",
       "</table>\n",
       "</div>"
      ],
      "text/plain": [
       "                               poster_path production_countries release_date   \n",
       "19729                                  NaN                  NaN          NaN  \\\n",
       "19730                         Midnight Man                  6.0            1   \n",
       "29502                                  NaN                  NaN          NaN   \n",
       "29503  Mardock Scramble: The Third Exhaust                  7.0           12   \n",
       "35586                                  NaN                  NaN          NaN   \n",
       "35587                     Avalanche Sharks                  4.3           22   \n",
       "\n",
       "       revenue  runtime spoken_languages status tagline title video  \n",
       "19729      NaN      NaN              NaN    NaN     NaN   NaN   NaN  \n",
       "19730      NaN      NaN              NaN    NaN     NaN   NaN   NaN  \n",
       "29502      NaN      NaN              NaN    NaN     NaN   NaN   NaN  \n",
       "29503      NaN      NaN              NaN    NaN     NaN   NaN   NaN  \n",
       "35586      NaN      NaN              NaN    NaN     NaN   NaN   NaN  \n",
       "35587      NaN      NaN              NaN    NaN     NaN   NaN   NaN  "
      ]
     },
     "execution_count": 13,
     "metadata": {},
     "output_type": "execute_result"
    }
   ],
   "source": [
    "movie_data[movie_data[\"revenue\"].isna()].iloc[:10,10:20]"
   ]
  },
  {
   "cell_type": "code",
   "execution_count": 14,
   "metadata": {},
   "outputs": [],
   "source": [
    "# Alerta de imputación masiva de valores nulos!!!\n",
    "\n",
    "movie_data[\"revenue\"] = movie_data[\"revenue\"].fillna(value=0)\n",
    "movie_data[\"budget\"] = movie_data[\"budget\"].fillna(value=0)"
   ]
  },
  {
   "attachments": {},
   "cell_type": "markdown",
   "metadata": {},
   "source": [
    "##### 3. Los valores nulos del campo **`release date`** deben eliminarse."
   ]
  },
  {
   "cell_type": "code",
   "execution_count": 15,
   "metadata": {},
   "outputs": [],
   "source": [
    "# Eliminación de los valores nulos\n",
    "movie_data = movie_data.dropna(axis=\"rows\", subset=\"release_date\")"
   ]
  },
  {
   "attachments": {},
   "cell_type": "markdown",
   "metadata": {},
   "source": [
    "##### 4. De haber fechas, deberán tener el formato **`AAAA-mm-dd`**, además deberán crear la columna **`release_year`** donde extraerán el año de la fecha de estreno."
   ]
  },
  {
   "attachments": {},
   "cell_type": "markdown",
   "metadata": {},
   "source": [
    "Usaremo un patrón de regex (regular expression) '^\\d{4}-\\d{2}-\\d{2}$':\n",
    "\n",
    "* ^: Representa el inicio de la cadena.\n",
    "\n",
    "* \\d{4}: Significa que esperamos exactamente cuatro dígitos. La secuencia \\d coincide con cualquier dígito del 0 al 9, y {4} indica que debe haber exactamente cuatro ocurrencias de ese patrón.\n",
    "\n",
    "* -: Representa el carácter de guion (\"-\").\n",
    "\n",
    "* \\d{2}: Indica que esperamos exactamente dos dígitos.\n",
    "\n",
    "* -: Nuevamente, el carácter de guion (\"-\").\n",
    "\n",
    "* \\d{2}: Otra vez, esperamos exactamente dos dígitos.\n",
    "\n",
    "* $: Representa el final de la cadena."
   ]
  },
  {
   "cell_type": "code",
   "execution_count": 16,
   "metadata": {},
   "outputs": [
    {
     "data": {
      "text/html": [
       "<div>\n",
       "<style scoped>\n",
       "    .dataframe tbody tr th:only-of-type {\n",
       "        vertical-align: middle;\n",
       "    }\n",
       "\n",
       "    .dataframe tbody tr th {\n",
       "        vertical-align: top;\n",
       "    }\n",
       "\n",
       "    .dataframe thead th {\n",
       "        text-align: right;\n",
       "    }\n",
       "</style>\n",
       "<table border=\"1\" class=\"dataframe\">\n",
       "  <thead>\n",
       "    <tr style=\"text-align: right;\">\n",
       "      <th></th>\n",
       "      <th>adult</th>\n",
       "      <th>budget</th>\n",
       "      <th>genres</th>\n",
       "      <th>homepage</th>\n",
       "      <th>id</th>\n",
       "      <th>imdb_id</th>\n",
       "      <th>original_language</th>\n",
       "      <th>original_title</th>\n",
       "      <th>overview</th>\n",
       "      <th>popularity</th>\n",
       "      <th>poster_path</th>\n",
       "      <th>production_countries</th>\n",
       "      <th>release_date</th>\n",
       "      <th>revenue</th>\n",
       "      <th>runtime</th>\n",
       "      <th>spoken_languages</th>\n",
       "      <th>status</th>\n",
       "      <th>tagline</th>\n",
       "      <th>title</th>\n",
       "      <th>video</th>\n",
       "      <th>vote_average</th>\n",
       "      <th>vote_count</th>\n",
       "      <th>collection_id</th>\n",
       "      <th>collection_name</th>\n",
       "      <th>collection_poster_path</th>\n",
       "      <th>collection_backdrop_path</th>\n",
       "      <th>production_company_id</th>\n",
       "      <th>production_company_name</th>\n",
       "    </tr>\n",
       "  </thead>\n",
       "  <tbody>\n",
       "    <tr>\n",
       "      <th>19730</th>\n",
       "      <td>- Written by Ørnås</td>\n",
       "      <td>/ff9qCepilowshEtG2GYWwzt2bs4.jpg</td>\n",
       "      <td>[{'name': 'Carousel Productions', 'id': 11176}...</td>\n",
       "      <td>[{'iso_3166_1': 'CA', 'name': 'Canada'}, {'iso...</td>\n",
       "      <td>1997-08-20</td>\n",
       "      <td>0</td>\n",
       "      <td>104.0</td>\n",
       "      <td>[{'iso_639_1': 'en', 'name': 'English'}]</td>\n",
       "      <td>Released</td>\n",
       "      <td>NaN</td>\n",
       "      <td>Midnight Man</td>\n",
       "      <td>6.0</td>\n",
       "      <td>1</td>\n",
       "      <td>0.0</td>\n",
       "      <td>NaN</td>\n",
       "      <td>NaN</td>\n",
       "      <td>NaN</td>\n",
       "      <td>NaN</td>\n",
       "      <td>NaN</td>\n",
       "      <td>NaN</td>\n",
       "      <td>NaN</td>\n",
       "      <td>NaN</td>\n",
       "      <td>None</td>\n",
       "      <td>NaN</td>\n",
       "      <td>NaN</td>\n",
       "      <td>NaN</td>\n",
       "      <td>None</td>\n",
       "      <td>NaN</td>\n",
       "    </tr>\n",
       "    <tr>\n",
       "      <th>29503</th>\n",
       "      <td>Rune Balot goes to a casino connected to the ...</td>\n",
       "      <td>/zV8bHuSL6WXoD6FWogP9j4x80bL.jpg</td>\n",
       "      <td>[{'name': 'Aniplex', 'id': 2883}, {'name': 'Go...</td>\n",
       "      <td>[{'iso_3166_1': 'US', 'name': 'United States o...</td>\n",
       "      <td>2012-09-29</td>\n",
       "      <td>0</td>\n",
       "      <td>68.0</td>\n",
       "      <td>[{'iso_639_1': 'ja', 'name': '日本語'}]</td>\n",
       "      <td>Released</td>\n",
       "      <td>NaN</td>\n",
       "      <td>Mardock Scramble: The Third Exhaust</td>\n",
       "      <td>7.0</td>\n",
       "      <td>12</td>\n",
       "      <td>0.0</td>\n",
       "      <td>NaN</td>\n",
       "      <td>NaN</td>\n",
       "      <td>NaN</td>\n",
       "      <td>NaN</td>\n",
       "      <td>NaN</td>\n",
       "      <td>NaN</td>\n",
       "      <td>NaN</td>\n",
       "      <td>NaN</td>\n",
       "      <td>None</td>\n",
       "      <td>NaN</td>\n",
       "      <td>NaN</td>\n",
       "      <td>NaN</td>\n",
       "      <td>None</td>\n",
       "      <td>NaN</td>\n",
       "    </tr>\n",
       "    <tr>\n",
       "      <th>35587</th>\n",
       "      <td>Avalanche Sharks tells the story of a bikini ...</td>\n",
       "      <td>/zaSf5OG7V8X8gqFvly88zDdRm46.jpg</td>\n",
       "      <td>[{'name': 'Odyssey Media', 'id': 17161}, {'nam...</td>\n",
       "      <td>[{'iso_3166_1': 'CA', 'name': 'Canada'}]</td>\n",
       "      <td>2014-01-01</td>\n",
       "      <td>0</td>\n",
       "      <td>82.0</td>\n",
       "      <td>[{'iso_639_1': 'en', 'name': 'English'}]</td>\n",
       "      <td>Released</td>\n",
       "      <td>Beware Of Frost Bites</td>\n",
       "      <td>Avalanche Sharks</td>\n",
       "      <td>4.3</td>\n",
       "      <td>22</td>\n",
       "      <td>0.0</td>\n",
       "      <td>NaN</td>\n",
       "      <td>NaN</td>\n",
       "      <td>NaN</td>\n",
       "      <td>NaN</td>\n",
       "      <td>NaN</td>\n",
       "      <td>NaN</td>\n",
       "      <td>NaN</td>\n",
       "      <td>NaN</td>\n",
       "      <td>None</td>\n",
       "      <td>NaN</td>\n",
       "      <td>NaN</td>\n",
       "      <td>NaN</td>\n",
       "      <td>None</td>\n",
       "      <td>NaN</td>\n",
       "    </tr>\n",
       "  </tbody>\n",
       "</table>\n",
       "</div>"
      ],
      "text/plain": [
       "                                                   adult   \n",
       "19730                                 - Written by Ørnås  \\\n",
       "29503   Rune Balot goes to a casino connected to the ...   \n",
       "35587   Avalanche Sharks tells the story of a bikini ...   \n",
       "\n",
       "                                 budget   \n",
       "19730  /ff9qCepilowshEtG2GYWwzt2bs4.jpg  \\\n",
       "29503  /zV8bHuSL6WXoD6FWogP9j4x80bL.jpg   \n",
       "35587  /zaSf5OG7V8X8gqFvly88zDdRm46.jpg   \n",
       "\n",
       "                                                  genres   \n",
       "19730  [{'name': 'Carousel Productions', 'id': 11176}...  \\\n",
       "29503  [{'name': 'Aniplex', 'id': 2883}, {'name': 'Go...   \n",
       "35587  [{'name': 'Odyssey Media', 'id': 17161}, {'nam...   \n",
       "\n",
       "                                                homepage          id imdb_id   \n",
       "19730  [{'iso_3166_1': 'CA', 'name': 'Canada'}, {'iso...  1997-08-20       0  \\\n",
       "29503  [{'iso_3166_1': 'US', 'name': 'United States o...  2012-09-29       0   \n",
       "35587           [{'iso_3166_1': 'CA', 'name': 'Canada'}]  2014-01-01       0   \n",
       "\n",
       "      original_language                            original_title  overview   \n",
       "19730             104.0  [{'iso_639_1': 'en', 'name': 'English'}]  Released  \\\n",
       "29503              68.0      [{'iso_639_1': 'ja', 'name': '日本語'}]  Released   \n",
       "35587              82.0  [{'iso_639_1': 'en', 'name': 'English'}]  Released   \n",
       "\n",
       "                  popularity                          poster_path   \n",
       "19730                    NaN                         Midnight Man  \\\n",
       "29503                    NaN  Mardock Scramble: The Third Exhaust   \n",
       "35587  Beware Of Frost Bites                     Avalanche Sharks   \n",
       "\n",
       "      production_countries release_date  revenue  runtime spoken_languages   \n",
       "19730                  6.0            1      0.0      NaN              NaN  \\\n",
       "29503                  7.0           12      0.0      NaN              NaN   \n",
       "35587                  4.3           22      0.0      NaN              NaN   \n",
       "\n",
       "      status tagline title video  vote_average  vote_count collection_id   \n",
       "19730    NaN     NaN   NaN   NaN           NaN         NaN          None  \\\n",
       "29503    NaN     NaN   NaN   NaN           NaN         NaN          None   \n",
       "35587    NaN     NaN   NaN   NaN           NaN         NaN          None   \n",
       "\n",
       "      collection_name collection_poster_path collection_backdrop_path   \n",
       "19730             NaN                    NaN                      NaN  \\\n",
       "29503             NaN                    NaN                      NaN   \n",
       "35587             NaN                    NaN                      NaN   \n",
       "\n",
       "      production_company_id production_company_name  \n",
       "19730                  None                     NaN  \n",
       "29503                  None                     NaN  \n",
       "35587                  None                     NaN  "
      ]
     },
     "execution_count": 16,
     "metadata": {},
     "output_type": "execute_result"
    }
   ],
   "source": [
    "# Patrón regex para el formato YYYY-MM-DD\n",
    "patron = r'^\\d{4}-\\d{2}-\\d{2}$'\n",
    "\n",
    "# Aplicar filtro utilizando regex\n",
    "date_format_mask = movie_data[\"release_date\"].str.match(patron)\n",
    "movie_data[~(movie_data[\"release_date\"].str.match(patron))]"
   ]
  },
  {
   "cell_type": "code",
   "execution_count": 17,
   "metadata": {},
   "outputs": [],
   "source": [
    "date_format_mask = movie_data[\"release_date\"].str.match(patron)"
   ]
  },
  {
   "cell_type": "code",
   "execution_count": 18,
   "metadata": {},
   "outputs": [],
   "source": [
    "collection_backdrop_path_replace = movie_data[~date_format_mask][\"budget\"] # collection_backdrop_path\n",
    "date_to_replace = movie_data[~date_format_mask][\"id\"] # "
   ]
  },
  {
   "cell_type": "code",
   "execution_count": 19,
   "metadata": {},
   "outputs": [],
   "source": [
    "movie_data.loc[~date_format_mask, \"release_date\"] = date_to_replace\n",
    "movie_data.loc[~date_format_mask, \"collection_backdrop_path\"] = collection_backdrop_path_replace"
   ]
  },
  {
   "cell_type": "code",
   "execution_count": 20,
   "metadata": {},
   "outputs": [],
   "source": [
    "movie_data[\"release_date\"] = pd.to_datetime(movie_data[\"release_date\"])\n",
    "\n",
    "# Conversion de los valores inválidos en valores nulos (NaT).\n",
    "# movie_data[\"release_date\"] = pd.to_datetime(movie_data[\"release_date\"], errors=\"coerce\")"
   ]
  },
  {
   "attachments": {},
   "cell_type": "markdown",
   "metadata": {},
   "source": [
    "##### 5. Crear la columna con el retorno de inversión, llamada **`return`** con los campos **`revenue`** y **`budget`**, dividiendo estas dos últimas **`revenue / budget`**, cuando no hay datos disponibles para calcularlo, deberá tomar el valor **`0`**."
   ]
  },
  {
   "cell_type": "code",
   "execution_count": 21,
   "metadata": {},
   "outputs": [],
   "source": [
    "# Reemplazo de los valores incosistentes en la columna \"budget\" por None (Asumimos que nos falta)\n",
    "# Recordemos que encontramos tres observaciones con datos incosistentes relacionados al \"budget\"\n",
    "\n",
    "movie_data.loc[movie_data.index == 19730, \"budget\"] = None\n",
    "movie_data.loc[movie_data.index == 29503, \"budget\"] = None\n",
    "movie_data.loc[movie_data.index == 35587, \"budget\"] = None"
   ]
  },
  {
   "cell_type": "code",
   "execution_count": 22,
   "metadata": {},
   "outputs": [
    {
     "name": "stdout",
     "output_type": "stream",
     "text": [
      "Cantidad total de variables/columnas: 28\n"
     ]
    },
    {
     "data": {
      "text/plain": [
       "19730    15\n",
       "29503    15\n",
       "35587    14\n",
       "dtype: int64"
      ]
     },
     "execution_count": 22,
     "metadata": {},
     "output_type": "execute_result"
    }
   ],
   "source": [
    "print(f\"Cantidad total de variables/columnas: {movie_data.shape[1]}\")\n",
    "\n",
    "# Evaluacion de las valores faltantes en columnas en los tres registros\n",
    "movie_data.loc[movie_data[~date_format_mask].index, :].isna().sum(axis=1)"
   ]
  },
  {
   "cell_type": "code",
   "execution_count": 23,
   "metadata": {},
   "outputs": [],
   "source": [
    "# Son mayores al 50%. Tomamos la decision de eliminarlos\n",
    "movie_data = movie_data.dropna(subset=\"budget\")"
   ]
  },
  {
   "cell_type": "code",
   "execution_count": 24,
   "metadata": {},
   "outputs": [],
   "source": [
    "# Parseo de datos de str a float32\n",
    "movie_data[\"revenue\"] = movie_data[\"revenue\"].astype(\"float32\")\n",
    "movie_data[\"budget\"] = movie_data[\"budget\"].astype(\"float32\")"
   ]
  },
  {
   "cell_type": "code",
   "execution_count": 25,
   "metadata": {},
   "outputs": [],
   "source": [
    "# revenue y budget no tienen valores faltantes. Procedemos con el cálculo del retorno (return)\n",
    "movie_data[\"return\"] = movie_data[\"revenue\"] / movie_data[\"budget\"]"
   ]
  },
  {
   "attachments": {},
   "cell_type": "markdown",
   "metadata": {},
   "source": [
    "##### 6. Eliminar las columnas que no serán utilizadas, **`video`**,**`imdb_id`**,**`adult`**,**`original_title`**,**`vote_count`**,**`poster_path`** y **`homepage`**"
   ]
  },
  {
   "cell_type": "code",
   "execution_count": 26,
   "metadata": {},
   "outputs": [
    {
     "data": {
      "text/plain": [
       "(7658,)"
      ]
     },
     "execution_count": 26,
     "metadata": {},
     "output_type": "execute_result"
    }
   ],
   "source": [
    "# Estaría correcto eliminar la columna porque no creo que afecten la existencia de Trailer en la decision que un usuario vea una pelicula u otra\n",
    "movie_data[\"video\"].value_counts() \n",
    "# 43 valores repetidos\n",
    "movie_data[\"imdb_id\"].unique().shape \n",
    "# Lo mejor sería eliminar los valores videos recomendados para adultos por se una clase minoritaria\n",
    "movie_data[\"adult\"].value_counts() \n",
    "\n",
    "# Su eliminacion es correcta porque al conservar unicamente title quedará unificado en un solo idioma\n",
    "movie_data.loc[~(movie_data[\"original_title\"] == movie_data[\"title\"]), [\"original_title\", \"title\"]] # Peliculas cuyos \"original_title\" no coincide con el \"title\"\n",
    "\n",
    "# No tiene valore faltantes. Rango de 0.0 a 10.0\n",
    "movie_data[\"vote_count\"].isna().sum()\n",
    "np.sort(movie_data[\"vote_count\"].unique()).round(1)\n",
    "\n",
    "# Tiene 339 valores nulos.\n",
    "movie_data[\"poster_path\"].isna().sum()\n",
    "movie_data[\"homepage\"].unique().shape"
   ]
  },
  {
   "cell_type": "code",
   "execution_count": 27,
   "metadata": {},
   "outputs": [],
   "source": [
    "# Eliminacion de las variables/columnas indicadas\n",
    "columns_to_remove = [\"video\", \"imdb_id\",\"adult\",\"original_title\", \"vote_count\", \"poster_path\"]\n",
    "movie_data = movie_data.drop(columns=columns_to_remove)"
   ]
  },
  {
   "cell_type": "code",
   "execution_count": 28,
   "metadata": {},
   "outputs": [],
   "source": [
    "# Adicional: Eliminacion \n",
    "movie_data = movie_data.drop(['collection_poster_path', 'collection_backdrop_path', 'collection_id', 'production_company_id'] , axis=1)"
   ]
  },
  {
   "cell_type": "code",
   "execution_count": 29,
   "metadata": {},
   "outputs": [],
   "source": [
    "# Extraer los nombres de los géneros de las peliculas\n",
    "def extract_genres(text):\n",
    "    if type(text) == str:\n",
    "        genres = \", \".join(re.findall(r\"'name': '([^']+)'\", text))\n",
    "        return genres.strip()\n",
    "    else:\n",
    "        return None"
   ]
  },
  {
   "cell_type": "code",
   "execution_count": 30,
   "metadata": {},
   "outputs": [],
   "source": [
    "# Aplicamos la funcion de extraccion de los nombres de los generos\n",
    "movie_data[\"genres\"] = movie_data[\"genres\"].apply(extract_genres)"
   ]
  },
  {
   "cell_type": "code",
   "execution_count": 31,
   "metadata": {},
   "outputs": [
    {
     "name": "stdout",
     "output_type": "stream",
     "text": [
      "Hay 13 registros duplicados en el dataset.\n"
     ]
    }
   ],
   "source": [
    "# Registro duplicados: Elimininamos.\n",
    "print(f\"Hay {movie_data.duplicated().sum()} registros duplicados en el dataset.\")\n",
    "\n",
    "# Eliminamos los registros duplicados\n",
    "movie_data = movie_data.drop_duplicates()"
   ]
  },
  {
   "cell_type": "code",
   "execution_count": 32,
   "metadata": {},
   "outputs": [],
   "source": [
    "def extract_names(text):\n",
    "    if type(text) == str:\n",
    "        genres = \", \".join(re.findall(r\"'name': '([^']+)'\", text))\n",
    "        return genres.strip()\n",
    "    else:\n",
    "        return None"
   ]
  },
  {
   "cell_type": "code",
   "execution_count": 33,
   "metadata": {},
   "outputs": [],
   "source": [
    "# Aplicamos la funcion que extrae los idiomas\n",
    "movie_data[\"spoken_languages\"] = movie_data[\"spoken_languages\"].apply(extract_names)"
   ]
  },
  {
   "cell_type": "code",
   "execution_count": 34,
   "metadata": {},
   "outputs": [],
   "source": [
    "# Extraemos los países donde \n",
    "movie_data[\"production_countries\"] = movie_data[\"production_countries\"].apply(extract_names)"
   ]
  },
  {
   "cell_type": "code",
   "execution_count": 35,
   "metadata": {},
   "outputs": [],
   "source": [
    "# Conversión del id a tipo numérico\n",
    "movie_data[\"id\"] = movie_data[\"id\"].astype(\"int32\")"
   ]
  },
  {
   "cell_type": "code",
   "execution_count": 36,
   "metadata": {},
   "outputs": [],
   "source": [
    "# Conversión del popularity a tipo flotante\n",
    "movie_data[\"popularity\"] = movie_data[\"popularity\"].astype(\"float32\")"
   ]
  },
  {
   "attachments": {},
   "cell_type": "markdown",
   "metadata": {},
   "source": [
    "``movie_data[[\"id\",\"popularity\"]].groupby(\"id\").transform('mean')`` devuelve un DataFrame con la misma forma que el DataFrame original ``movie_data``, pero con los valores de popularidad reemplazados por la media de la popularidad correspondiente a cada grupo de identificación (id). Esto significa que se calcula la media de la popularidad para cada grupo y se asigna ese valor a todas las filas dentro de ese grupo. El índice y las columnas se mantienen en el DataFrame resultante."
   ]
  },
  {
   "cell_type": "code",
   "execution_count": 37,
   "metadata": {},
   "outputs": [],
   "source": [
    "# Nos dimos cuenta que los \"id\" por cada grupos de registros varía unicamente \"popularity\" por tanto nos quedaremos con la media de los repetidos\n",
    "movie_data[\"popularity\"] = movie_data[[\"id\",\"popularity\"]].groupby(\"id\").transform('mean')"
   ]
  },
  {
   "cell_type": "code",
   "execution_count": 38,
   "metadata": {},
   "outputs": [
    {
     "name": "stdout",
     "output_type": "stream",
     "text": [
      "Cantidad de registrados cuyos \"id\" son duplicados y se va ha eliminar: 17 registros.\n"
     ]
    }
   ],
   "source": [
    "print(f'Cantidad de registrados cuyos \"id\" son duplicados y se va ha eliminar: {movie_data.duplicated(subset=\"id\").sum()} registros.')\n",
    "\n",
    "# Eliminamos los registros duplicados por id\n",
    "movie_data = movie_data.drop_duplicates(subset=\"id\")"
   ]
  },
  {
   "cell_type": "code",
   "execution_count": 39,
   "metadata": {},
   "outputs": [
    {
     "data": {
      "text/html": [
       "<div>\n",
       "<style scoped>\n",
       "    .dataframe tbody tr th:only-of-type {\n",
       "        vertical-align: middle;\n",
       "    }\n",
       "\n",
       "    .dataframe tbody tr th {\n",
       "        vertical-align: top;\n",
       "    }\n",
       "\n",
       "    .dataframe thead th {\n",
       "        text-align: right;\n",
       "    }\n",
       "</style>\n",
       "<table border=\"1\" class=\"dataframe\">\n",
       "  <thead>\n",
       "    <tr style=\"text-align: right;\">\n",
       "      <th></th>\n",
       "      <th>budget</th>\n",
       "      <th>genres</th>\n",
       "      <th>homepage</th>\n",
       "      <th>id</th>\n",
       "      <th>original_language</th>\n",
       "      <th>overview</th>\n",
       "      <th>popularity</th>\n",
       "      <th>production_countries</th>\n",
       "      <th>release_date</th>\n",
       "      <th>revenue</th>\n",
       "      <th>runtime</th>\n",
       "      <th>spoken_languages</th>\n",
       "      <th>status</th>\n",
       "      <th>tagline</th>\n",
       "      <th>title</th>\n",
       "      <th>vote_average</th>\n",
       "      <th>collection_name</th>\n",
       "      <th>production_company_name</th>\n",
       "      <th>return</th>\n",
       "    </tr>\n",
       "  </thead>\n",
       "  <tbody>\n",
       "    <tr>\n",
       "      <th>0</th>\n",
       "      <td>30000000.0</td>\n",
       "      <td>Animation, Comedy, Family</td>\n",
       "      <td>http://toystory.disney.com/toy-story</td>\n",
       "      <td>862</td>\n",
       "      <td>en</td>\n",
       "      <td>Led by Woody, Andy's toys live happily in his ...</td>\n",
       "      <td>21.946943</td>\n",
       "      <td>United States of America</td>\n",
       "      <td>1995-10-30</td>\n",
       "      <td>373554048.0</td>\n",
       "      <td>81.0</td>\n",
       "      <td>English</td>\n",
       "      <td>Released</td>\n",
       "      <td>NaN</td>\n",
       "      <td>Toy Story</td>\n",
       "      <td>7.7</td>\n",
       "      <td>Toy Story Collection</td>\n",
       "      <td>Pixar Animation Studios</td>\n",
       "      <td>12.451801</td>\n",
       "    </tr>\n",
       "    <tr>\n",
       "      <th>1</th>\n",
       "      <td>65000000.0</td>\n",
       "      <td>Adventure, Fantasy, Family</td>\n",
       "      <td>NaN</td>\n",
       "      <td>8844</td>\n",
       "      <td>en</td>\n",
       "      <td>When siblings Judy and Peter discover an encha...</td>\n",
       "      <td>17.015539</td>\n",
       "      <td>United States of America</td>\n",
       "      <td>1995-12-15</td>\n",
       "      <td>262797248.0</td>\n",
       "      <td>104.0</td>\n",
       "      <td>English, Français</td>\n",
       "      <td>Released</td>\n",
       "      <td>Roll the dice and unleash the excitement!</td>\n",
       "      <td>Jumanji</td>\n",
       "      <td>6.9</td>\n",
       "      <td>NaN</td>\n",
       "      <td>Interscope Communications</td>\n",
       "      <td>4.043035</td>\n",
       "    </tr>\n",
       "  </tbody>\n",
       "</table>\n",
       "</div>"
      ],
      "text/plain": [
       "       budget                      genres   \n",
       "0  30000000.0   Animation, Comedy, Family  \\\n",
       "1  65000000.0  Adventure, Fantasy, Family   \n",
       "\n",
       "                               homepage    id original_language   \n",
       "0  http://toystory.disney.com/toy-story   862                en  \\\n",
       "1                                   NaN  8844                en   \n",
       "\n",
       "                                            overview  popularity   \n",
       "0  Led by Woody, Andy's toys live happily in his ...   21.946943  \\\n",
       "1  When siblings Judy and Peter discover an encha...   17.015539   \n",
       "\n",
       "       production_countries release_date      revenue  runtime   \n",
       "0  United States of America   1995-10-30  373554048.0     81.0  \\\n",
       "1  United States of America   1995-12-15  262797248.0    104.0   \n",
       "\n",
       "    spoken_languages    status                                    tagline   \n",
       "0            English  Released                                        NaN  \\\n",
       "1  English, Français  Released  Roll the dice and unleash the excitement!   \n",
       "\n",
       "       title  vote_average       collection_name    production_company_name   \n",
       "0  Toy Story           7.7  Toy Story Collection    Pixar Animation Studios  \\\n",
       "1    Jumanji           6.9                   NaN  Interscope Communications   \n",
       "\n",
       "      return  \n",
       "0  12.451801  \n",
       "1   4.043035  "
      ]
     },
     "execution_count": 39,
     "metadata": {},
     "output_type": "execute_result"
    }
   ],
   "source": [
    "movie_data.head(2)"
   ]
  },
  {
   "cell_type": "code",
   "execution_count": 40,
   "metadata": {},
   "outputs": [],
   "source": [
    "# Cambiamos el tipo de dato float64 a float32\n",
    "movie_data.loc[::, \"vote_average\"] = movie_data[\"vote_average\"].astype(\"float32\")"
   ]
  },
  {
   "cell_type": "code",
   "execution_count": 41,
   "metadata": {},
   "outputs": [
    {
     "name": "stdout",
     "output_type": "stream",
     "text": [
      "<class 'pandas.core.frame.DataFrame'>\n",
      "RangeIndex: 45346 entries, 0 to 45345\n",
      "Data columns (total 19 columns):\n",
      " #   Column                   Non-Null Count  Dtype         \n",
      "---  ------                   --------------  -----         \n",
      " 0   budget                   45346 non-null  float32       \n",
      " 1   genres                   45346 non-null  object        \n",
      " 2   homepage                 7761 non-null   object        \n",
      " 3   id                       45346 non-null  int32         \n",
      " 4   original_language        45335 non-null  object        \n",
      " 5   overview                 44405 non-null  object        \n",
      " 6   popularity               45346 non-null  float32       \n",
      " 7   production_countries     45346 non-null  object        \n",
      " 8   release_date             45346 non-null  datetime64[ns]\n",
      " 9   revenue                  45346 non-null  float32       \n",
      " 10  runtime                  45100 non-null  float64       \n",
      " 11  spoken_languages         45346 non-null  object        \n",
      " 12  status                   45266 non-null  object        \n",
      " 13  tagline                  20387 non-null  object        \n",
      " 14  title                    45346 non-null  object        \n",
      " 15  vote_average             45346 non-null  float64       \n",
      " 16  collection_name          4378 non-null   object        \n",
      " 17  production_company_name  33499 non-null  object        \n",
      " 18  return                   10898 non-null  float32       \n",
      "dtypes: datetime64[ns](1), float32(4), float64(2), int32(1), object(11)\n",
      "memory usage: 5.7+ MB\n"
     ]
    }
   ],
   "source": [
    "# Reseteamos el ordenamiento del índice\n",
    "movie_data = movie_data.reset_index(drop=True)\n",
    "\n",
    "movie_data.info()"
   ]
  },
  {
   "attachments": {},
   "cell_type": "markdown",
   "metadata": {},
   "source": [
    "## **Queries / Requests de la API**"
   ]
  },
  {
   "attachments": {},
   "cell_type": "markdown",
   "metadata": {},
   "source": [
    "\n",
    "Deben crear 6 funciones para los endpoints que se consumirán en la API, recuerden que deben tener un decorador por cada una (@app.get(‘/’)).\n",
    "  \n",
    "+ def peliculas_mes(mes):\n",
    "    '''Se ingresa el mes y la funcion retorna la cantidad de peliculas que se estrenaron ese mes (nombre del mes, en str, ejemplo 'enero') historicamente'''\n",
    "    return {'mes':mes, 'cantidad':respuesta}"
   ]
  },
  {
   "cell_type": "code",
   "execution_count": 42,
   "metadata": {},
   "outputs": [],
   "source": [
    "import locale\n",
    "# Establecer la configuración regional en español\n",
    "locale.setlocale(locale.LC_TIME, 'es_ES.UTF-8')\n",
    "\n",
    "\n",
    "def peliculas_mes(mes: str, data: pd.DataFrame):\n",
    "    # Opcion 1: Crear un diccionario de meses cons respectivos\n",
    "    # dictionario = {\n",
    "    #     \"enero\": \"1\",\n",
    "    #     \"febrero\": \"2\",\n",
    "    #     \"febrero\": \"3\",\n",
    "    #     \"abril\": \"4\",\n",
    "    #     \"mayo\": \"5\",\n",
    "    #     \"junio\": \"6\",\n",
    "    #     \"julio\": \"7\",\n",
    "    #     \"agosto\": \"8\",\n",
    "    #     \"septiembre\": \"9\",\n",
    "    #     \"octubre\": \"10\",\n",
    "    #     \"noviembre\": \"11\",\n",
    "    #     \"diciembre\": \"12\",\n",
    "    # }\n",
    "    # Obtener los nombres de los meses en español\n",
    "    month_mask = data[\"release_date\"].dt.strftime(\"%B\") == mes.lower()\n",
    "    count = data[month_mask].shape[0]\n",
    "    return {\n",
    "        \"mes\": mes,\n",
    "        \"cantidad\": count\n",
    "    }"
   ]
  },
  {
   "cell_type": "code",
   "execution_count": 43,
   "metadata": {},
   "outputs": [
    {
     "data": {
      "text/plain": [
       "{'mes': 'enero', 'cantidad': 5909}"
      ]
     },
     "execution_count": 43,
     "metadata": {},
     "output_type": "execute_result"
    }
   ],
   "source": [
    "# Ejemplo\n",
    "peliculas_mes(\"enero\", movie_data)"
   ]
  },
  {
   "attachments": {},
   "cell_type": "markdown",
   "metadata": {},
   "source": [
    "\n",
    "+ def peliculas_dia(dia):\n",
    "    '''Se ingresa el dia y la funcion retorna la cantidad de peliculas que se estrenaron ese dia (de la semana, en str, ejemplo 'lunes') historicamente'''\n",
    "    return {'dia':dia, 'cantidad':respuesta}"
   ]
  },
  {
   "cell_type": "code",
   "execution_count": 44,
   "metadata": {},
   "outputs": [],
   "source": [
    "def peliculas_dia(dia: str, data: pd.DataFrame):\n",
    "    # Obtener los nombres de los días de la semana en español\n",
    "    day_mask = data[\"release_date\"].dt.strftime(\"%A\") == dia.lower()\n",
    "    count = data[day_mask].shape[0]\n",
    "    return {\n",
    "        \"dia\": dia,\n",
    "        \"cantidad\": count\n",
    "    }"
   ]
  },
  {
   "cell_type": "code",
   "execution_count": 45,
   "metadata": {},
   "outputs": [
    {
     "data": {
      "text/plain": [
       "{'dia': 'lunes', 'cantidad': 3500}"
      ]
     },
     "execution_count": 45,
     "metadata": {},
     "output_type": "execute_result"
    }
   ],
   "source": [
    "peliculas_dia('lunes', movie_data)"
   ]
  },
  {
   "attachments": {},
   "cell_type": "markdown",
   "metadata": {},
   "source": [
    "+ def franquicia(franquicia):\n",
    "    '''Se ingresa la franquicia, retornando la cantidad de peliculas, ganancia total y promedio'''\n",
    "    return {'franquicia':franquicia, 'cantidad':respuesta, 'ganancia_total':respuesta, 'ganancia_promedio':respuesta}"
   ]
  },
  {
   "cell_type": "code",
   "execution_count": 46,
   "metadata": {},
   "outputs": [],
   "source": [
    "def franquicia(franquicia: str, data: pd.DataFrame):\n",
    "    franchise_name_mask = data[\"collection_name\"].str.lower() == franquicia.lower()\n",
    "    movie_count = data[franchise_name_mask].shape[0]\n",
    "    total_revenue = data[franchise_name_mask][\"revenue\"].sum()\n",
    "    avg_revenue = data[franchise_name_mask][\"revenue\"].mean()\n",
    "    return {\n",
    "        \"franquicia\": franquicia,\n",
    "        \"cantidad\": movie_count,\n",
    "        \"ganancia_total\": total_revenue,\n",
    "        \"ganancia_promedio\": avg_revenue\n",
    "    }"
   ]
  },
  {
   "cell_type": "code",
   "execution_count": 47,
   "metadata": {},
   "outputs": [
    {
     "data": {
      "text/plain": [
       "{'franquicia': 'Toy Story Collection',\n",
       " 'cantidad': 3,\n",
       " 'ganancia_total': 1937890700.0,\n",
       " 'ganancia_promedio': 645963600.0}"
      ]
     },
     "execution_count": 47,
     "metadata": {},
     "output_type": "execute_result"
    }
   ],
   "source": [
    "franquicia(\"Toy Story Collection\", movie_data)"
   ]
  },
  {
   "attachments": {},
   "cell_type": "markdown",
   "metadata": {},
   "source": [
    "+ def peliculas_pais(pais):\n",
    "    '''Ingresas el pais, retornando la cantidad de peliculas producidas en el mismo'''\n",
    "    return {'pais':pais, 'cantidad':respuesta}"
   ]
  },
  {
   "cell_type": "code",
   "execution_count": 37,
   "metadata": {},
   "outputs": [],
   "source": [
    "def peliculas_pais(pais: str, data: pd.DataFrame):\n",
    "    country_mask = data[\"production_countries\"].str.lower() == pais.lower()\n",
    "    movie_count = data[country_mask].shape[0]\n",
    "    return {\n",
    "        \"pais\": pais,\n",
    "        \"cantidad\": movie_count\n",
    "    }\n"
   ]
  },
  {
   "cell_type": "code",
   "execution_count": 39,
   "metadata": {},
   "outputs": [
    {
     "data": {
      "text/plain": [
       "{'pais': 'United States of America', 'cantidad': 17836}"
      ]
     },
     "execution_count": 39,
     "metadata": {},
     "output_type": "execute_result"
    }
   ],
   "source": [
    "peliculas_pais(\"United States of America\", movie_data)"
   ]
  },
  {
   "attachments": {},
   "cell_type": "markdown",
   "metadata": {},
   "source": [
    "+ def productoras(productora):\n",
    "    '''Ingresas la productora, retornando la ganancia total y la cantidad de peliculas que produjeron'''\n",
    "    return {'productora':productora, 'ganancia_total':respuesta, 'cantidad':respuesta}"
   ]
  },
  {
   "cell_type": "code",
   "execution_count": 49,
   "metadata": {},
   "outputs": [
    {
     "data": {
      "text/plain": [
       "array(['Pixar Animation Studios', 'Interscope Communications',\n",
       "       'Lancaster Gate', ..., 'CanWest Global Communications',\n",
       "       'Sine Olivia', 'Yermoliev'], dtype=object)"
      ]
     },
     "execution_count": 49,
     "metadata": {},
     "output_type": "execute_result"
    }
   ],
   "source": [
    "movie_data[\"production_company_name\"].unique()"
   ]
  },
  {
   "cell_type": "code",
   "execution_count": 50,
   "metadata": {},
   "outputs": [],
   "source": [
    "def productoras(productora: str, data: pd.DataFrame):\n",
    "    company_name_mask = data[\"production_company_name\"].str.lower() == productora.lower()\n",
    "    total_revenue  = data[company_name_mask][\"revenue\"].sum()\n",
    "    count = data[company_name_mask].shape[0]\n",
    "    return {\n",
    "        \"productora\": productora,\n",
    "        \"ganancia_total\": total_revenue,\n",
    "        \"cantidad\": count\n",
    "    }"
   ]
  },
  {
   "cell_type": "code",
   "execution_count": 51,
   "metadata": {},
   "outputs": [
    {
     "data": {
      "text/plain": [
       "{'productora': 'Lancaster Gate', 'ganancia_total': 0.0, 'cantidad': 1}"
      ]
     },
     "execution_count": 51,
     "metadata": {},
     "output_type": "execute_result"
    }
   ],
   "source": [
    "productoras(\"Lancaster Gate\", movie_data)"
   ]
  },
  {
   "attachments": {},
   "cell_type": "markdown",
   "metadata": {},
   "source": [
    "+ def retorno(pelicula):\n",
    "    '''Ingresas la pelicula, retornando la inversion, la ganancia, el retorno y el año en el que se lanzo'''\n",
    "    return {'pelicula':pelicula, 'inversion':respuesta, 'ganacia':respuesta,'retorno':respuesta, 'anio':respuesta}"
   ]
  },
  {
   "cell_type": "code",
   "execution_count": 52,
   "metadata": {},
   "outputs": [],
   "source": [
    "def retorno(pelicula: str, data: pd.DataFrame):\n",
    "    movie_title_mask = data[\"title\"].str.lower() == pelicula.lower()\n",
    "    investment = data[movie_title_mask][\"budget\"].iloc[0]\n",
    "    revenue = data[movie_title_mask][\"revenue\"].iloc[0]\n",
    "    return_on_investment = data[movie_title_mask][\"return\"].iloc[0]\n",
    "    year = data[movie_title_mask][\"release_date\"].iloc[0].year\n",
    "    \n",
    "    return {\n",
    "        \"pelicula\": pelicula,\n",
    "        \"inversion\": investment,\n",
    "        \"ganancia\": revenue,\n",
    "        \"retorno\": return_on_investment,\n",
    "        \"anio\": year\n",
    "    }"
   ]
  },
  {
   "cell_type": "code",
   "execution_count": 53,
   "metadata": {},
   "outputs": [
    {
     "data": {
      "text/plain": [
       "{'pelicula': 'Toy Story',\n",
       " 'inversion': 30000000.0,\n",
       " 'ganancia': 373554050.0,\n",
       " 'retorno': 12.451801,\n",
       " 'anio': 1995}"
      ]
     },
     "execution_count": 53,
     "metadata": {},
     "output_type": "execute_result"
    }
   ],
   "source": [
    "retorno(\"Toy Story\", movie_data)"
   ]
  },
  {
   "cell_type": "code",
   "execution_count": 54,
   "metadata": {},
   "outputs": [
    {
     "name": "stdout",
     "output_type": "stream",
     "text": [
      "budget\n",
      "genres\n",
      "homepage\n",
      "id\n",
      "original_language\n",
      "overview\n",
      "popularity\n",
      "production_countries\n",
      "release_date\n",
      "revenue\n",
      "runtime\n",
      "spoken_languages\n",
      "status\n",
      "tagline\n",
      "title\n",
      "vote_average\n",
      "collection_name\n",
      "production_company_name\n",
      "return\n"
     ]
    }
   ],
   "source": [
    "for i in list(movie_data.columns):\n",
    "    print(i)"
   ]
  },
  {
   "cell_type": "code",
   "execution_count": 55,
   "metadata": {},
   "outputs": [
    {
     "name": "stdout",
     "output_type": "stream",
     "text": [
      "<class 'pandas.core.frame.DataFrame'>\n",
      "RangeIndex: 45346 entries, 0 to 45345\n",
      "Data columns (total 19 columns):\n",
      " #   Column                   Non-Null Count  Dtype         \n",
      "---  ------                   --------------  -----         \n",
      " 0   budget                   45346 non-null  float32       \n",
      " 1   genres                   45346 non-null  object        \n",
      " 2   homepage                 7761 non-null   object        \n",
      " 3   id                       45346 non-null  int32         \n",
      " 4   original_language        45335 non-null  object        \n",
      " 5   overview                 44405 non-null  object        \n",
      " 6   popularity               45346 non-null  float32       \n",
      " 7   production_countries     45346 non-null  object        \n",
      " 8   release_date             45346 non-null  datetime64[ns]\n",
      " 9   revenue                  45346 non-null  float32       \n",
      " 10  runtime                  45100 non-null  float64       \n",
      " 11  spoken_languages         45346 non-null  object        \n",
      " 12  status                   45266 non-null  object        \n",
      " 13  tagline                  20387 non-null  object        \n",
      " 14  title                    45346 non-null  object        \n",
      " 15  vote_average             45346 non-null  float64       \n",
      " 16  collection_name          4378 non-null   object        \n",
      " 17  production_company_name  33499 non-null  object        \n",
      " 18  return                   10898 non-null  float32       \n",
      "dtypes: datetime64[ns](1), float32(4), float64(2), int32(1), object(11)\n",
      "memory usage: 5.7+ MB\n"
     ]
    }
   ],
   "source": [
    "movie_data.info()"
   ]
  },
  {
   "cell_type": "code",
   "execution_count": 60,
   "metadata": {},
   "outputs": [],
   "source": [
    "# Renombramos la columna return\n",
    "movie_data = movie_data.rename({\"return\": \"return_on_investment\"}, axis=1)"
   ]
  },
  {
   "cell_type": "code",
   "execution_count": 70,
   "metadata": {},
   "outputs": [],
   "source": [
    "# Renombramos la columna id\n",
    "movie_data = movie_data.rename({\"id\": \"movie_id\"}, axis=1)"
   ]
  },
  {
   "cell_type": "code",
   "execution_count": 73,
   "metadata": {},
   "outputs": [],
   "source": [
    "columns_ordered = [\n",
    "        \"movie_id\",\n",
    "        \"budget\",\n",
    "        \"genres\",\n",
    "        \"homepage\",\n",
    "        \"original_language\",\n",
    "        \"overview\",\n",
    "        \"popularity\",\n",
    "        \"production_countries\",\n",
    "        \"release_date\",\n",
    "        \"revenue\",\n",
    "        \"runtime\",\n",
    "        \"spoken_languages\",\n",
    "        \"status\",\n",
    "        \"tagline\",\n",
    "        \"title\",\n",
    "        \"vote_average\",\n",
    "        \"collection_name\",\n",
    "        \"production_company_name\",\n",
    "        \"return_on_investment\"\n",
    "    ]"
   ]
  },
  {
   "cell_type": "code",
   "execution_count": 75,
   "metadata": {},
   "outputs": [],
   "source": [
    "# Reordenamos las columas\n",
    "movie_data = movie_data[columns_ordered]"
   ]
  },
  {
   "cell_type": "code",
   "execution_count": 76,
   "metadata": {},
   "outputs": [],
   "source": [
    "# Exportamos a un archivo csv\n",
    "movie_data.to_csv(\"../api/data/movie_data.csv\", index=False)"
   ]
  },
  {
   "cell_type": "code",
   "execution_count": null,
   "metadata": {},
   "outputs": [],
   "source": [
    "# Exportamos a un archivo JSON\n",
    "movie_data.to_json(\"../api/data/movie_data.json\", orient=\"records\")"
   ]
  }
 ],
 "metadata": {
  "kernelspec": {
   "display_name": "venv",
   "language": "python",
   "name": "python3"
  },
  "language_info": {
   "codemirror_mode": {
    "name": "ipython",
    "version": 3
   },
   "file_extension": ".py",
   "mimetype": "text/x-python",
   "name": "python",
   "nbconvert_exporter": "python",
   "pygments_lexer": "ipython3",
   "version": "3.10.11"
  },
  "orig_nbformat": 4
 },
 "nbformat": 4,
 "nbformat_minor": 2
}
